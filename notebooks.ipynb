{
 "cells": [
  {
   "cell_type": "code",
   "execution_count": 1,
   "outputs": [],
   "source": [
    "import pandas as pd\n",
    "import warnings\n",
    "warnings.filterwarnings(\"ignore\")"
   ],
   "metadata": {
    "collapsed": false,
    "pycharm": {
     "name": "#%%\n"
    }
   }
  },
  {
   "cell_type": "code",
   "execution_count": null,
   "outputs": [],
   "source": [
    "train = pd.read_csv(\"train.csv\")\n",
    "train.head(3)"
   ],
   "metadata": {
    "collapsed": false,
    "pycharm": {
     "name": "#%%\n"
    }
   }
  },
  {
   "cell_type": "code",
   "execution_count": null,
   "outputs": [],
   "source": [
    "test = pd.read_csv(\"test.csv\")\n",
    "test.head(3)"
   ],
   "metadata": {
    "collapsed": false,
    "pycharm": {
     "name": "#%%\n"
    }
   }
  },
  {
   "cell_type": "code",
   "execution_count": null,
   "outputs": [],
   "source": [
    "pd.pivot_table(\n",
    "    train,\n",
    "    index=\"Pclass\",\n",
    "    columns=\"Survived\",\n",
    "    aggfunc=\"mean\",\n",
    ")"
   ],
   "metadata": {
    "collapsed": false,
    "pycharm": {
     "name": "#%%\n"
    }
   }
  },
  {
   "cell_type": "code",
   "execution_count": null,
   "outputs": [],
   "source": [
    "pd.pivot_table(\n",
    "    train,\n",
    "    index=\"Sex\",\n",
    "    columns=\"Survived\",\n",
    "    aggfunc=\"mean\",\n",
    ")"
   ],
   "metadata": {
    "collapsed": false,
    "pycharm": {
     "name": "#%%\n"
    }
   }
  },
  {
   "cell_type": "code",
   "execution_count": null,
   "outputs": [],
   "source": [
    "pd.pivot_table(\n",
    "    train,\n",
    "    index=\"SibSp\",\n",
    "    columns=\"Survived\",\n",
    "    aggfunc=\"mean\",\n",
    "    fill_value=0,\n",
    ")"
   ],
   "metadata": {
    "collapsed": false,
    "pycharm": {
     "name": "#%%\n"
    }
   }
  },
  {
   "cell_type": "code",
   "execution_count": null,
   "outputs": [],
   "source": [
    "pd.pivot_table(\n",
    "    train,\n",
    "    index=\"Parch\",\n",
    "    columns=\"Survived\",\n",
    "    aggfunc=\"mean\",\n",
    "    fill_value=0,\n",
    ")"
   ],
   "metadata": {
    "collapsed": false,
    "pycharm": {
     "name": "#%%\n"
    }
   }
  },
  {
   "cell_type": "code",
   "execution_count": null,
   "outputs": [],
   "source": [
    "import seaborn as sns\n",
    "import matplotlib.pyplot as plt"
   ],
   "metadata": {
    "collapsed": false,
    "pycharm": {
     "name": "#%%\n"
    }
   }
  },
  {
   "cell_type": "code",
   "execution_count": null,
   "outputs": [],
   "source": [
    "survived_0 = train.loc[train[\"Survived\"] == 0]\n",
    "survived_1 = train.loc[train[\"Survived\"] == 1]\n",
    "\n",
    "\n",
    "sns.distplot(survived_0[\"Age\"], label=\"survived_0\");\n",
    "sns.distplot(survived_1[\"Age\"], label=\"survived_1\");\n",
    "\n",
    "plt.legend();"
   ],
   "metadata": {
    "collapsed": false,
    "pycharm": {
     "name": "#%%\n"
    }
   }
  },
  {
   "cell_type": "code",
   "execution_count": null,
   "outputs": [],
   "source": [
    "pclass_1_survived_0 = train.loc[(train[\"Pclass\"] == 1) & (train[\"Survived\"] == 0)]\n",
    "pclass_1_survived_1 = train.loc[(train[\"Pclass\"] == 1) & (train[\"Survived\"] == 1)]\n",
    "\n",
    "pclass_2_survived_0 = train.loc[(train[\"Pclass\"] == 2) & (train[\"Survived\"] == 0)]\n",
    "pclass_2_survived_1 = train.loc[(train[\"Pclass\"] == 2) & (train[\"Survived\"] == 1)]\n",
    "\n",
    "pclass_3_survived_0 = train.loc[(train[\"Pclass\"] == 3) & (train[\"Survived\"] == 0)]\n",
    "pclass_3_survived_1 = train.loc[(train[\"Pclass\"] == 3) & (train[\"Survived\"] == 1)]\n"
   ],
   "metadata": {
    "collapsed": false,
    "pycharm": {
     "name": "#%%\n"
    }
   }
  },
  {
   "cell_type": "code",
   "execution_count": null,
   "outputs": [],
   "source": [
    "sns.distplot(pclass_1_survived_0[\"Age\"], label=\"pclass_1_survived_0\");\n",
    "sns.distplot(pclass_1_survived_1[\"Age\"], label=\"pclass_1_survived_1\");\n",
    "plt.legend();"
   ],
   "metadata": {
    "collapsed": false,
    "pycharm": {
     "name": "#%%\n"
    }
   }
  },
  {
   "cell_type": "code",
   "execution_count": null,
   "outputs": [],
   "source": [
    "sns.distplot(pclass_2_survived_0[\"Age\"], label=\"pclass_2_survived_0\");\n",
    "sns.distplot(pclass_2_survived_1[\"Age\"], label=\"pclass_2_survived_1\");\n",
    "plt.legend();"
   ],
   "metadata": {
    "collapsed": false,
    "pycharm": {
     "name": "#%%\n"
    }
   }
  },
  {
   "cell_type": "code",
   "execution_count": null,
   "outputs": [],
   "source": [
    "sns.distplot(pclass_3_survived_0[\"Age\"], label=\"pclass_3_survived_0\");\n",
    "sns.distplot(pclass_3_survived_1[\"Age\"], label=\"pclass_3_survived_1\");\n",
    "plt.legend();"
   ],
   "metadata": {
    "collapsed": false,
    "pycharm": {
     "name": "#%%\n"
    }
   }
  },
  {
   "cell_type": "code",
   "execution_count": null,
   "outputs": [],
   "source": [
    "sns.pointplot(data=train, x=\"Pclass\", y=\"Survived\", hue=\"Sex\");"
   ],
   "metadata": {
    "collapsed": false,
    "pycharm": {
     "name": "#%%\n"
    }
   }
  },
  {
   "cell_type": "code",
   "execution_count": null,
   "outputs": [],
   "source": [
    "embarked_S = train.loc[train[\"Embarked\"] == \"S\"]\n",
    "embarked_C = train.loc[train[\"Embarked\"] == \"C\"]\n",
    "embarked_Q = train.loc[train[\"Embarked\"] == \"Q\"]"
   ],
   "metadata": {
    "collapsed": false,
    "pycharm": {
     "name": "#%%\n"
    }
   }
  },
  {
   "cell_type": "code",
   "execution_count": null,
   "outputs": [],
   "source": [
    "sns.pointplot(data=embarked_S, x=\"Pclass\", y=\"Survived\", hue=\"Sex\");\n",
    "plt.title(\"Embarked = S\");"
   ],
   "metadata": {
    "collapsed": false,
    "pycharm": {
     "name": "#%%\n"
    }
   }
  },
  {
   "cell_type": "code",
   "execution_count": null,
   "outputs": [],
   "source": [
    "sns.pointplot(data=embarked_C, x=\"Pclass\", y=\"Survived\", hue=\"Sex\");\n",
    "plt.title(\"Embarked = C\");"
   ],
   "metadata": {
    "collapsed": false,
    "pycharm": {
     "name": "#%%\n"
    }
   }
  },
  {
   "cell_type": "code",
   "execution_count": null,
   "outputs": [],
   "source": [
    "sns.pointplot(data=embarked_Q, x=\"Pclass\", y=\"Survived\", hue=\"Sex\");\n",
    "plt.title(\"Embarked = Q\");"
   ],
   "metadata": {
    "collapsed": false,
    "pycharm": {
     "name": "#%%\n"
    }
   }
  },
  {
   "cell_type": "code",
   "execution_count": null,
   "outputs": [],
   "source": [
    "sns.barplot(data=embarked_S, x=\"Sex\", y=\"Fare\", hue=\"Survived\");\n",
    "plt.title(\"Embarked = S\");"
   ],
   "metadata": {
    "collapsed": false,
    "pycharm": {
     "name": "#%%\n"
    }
   }
  },
  {
   "cell_type": "code",
   "execution_count": null,
   "outputs": [],
   "source": [
    "sns.barplot(data=embarked_C, x=\"Sex\", y=\"Fare\", hue=\"Survived\");\n",
    "plt.title(\"Embarked = C\");"
   ],
   "metadata": {
    "collapsed": false,
    "pycharm": {
     "name": "#%%\n"
    }
   }
  },
  {
   "cell_type": "code",
   "execution_count": null,
   "outputs": [],
   "source": [
    "sns.barplot(data=embarked_Q, x=\"Sex\", y=\"Fare\", hue=\"Survived\");\n",
    "plt.title(\"Embarked = Q\");"
   ],
   "metadata": {
    "collapsed": false,
    "pycharm": {
     "name": "#%%\n"
    }
   }
  },
  {
   "cell_type": "code",
   "execution_count": null,
   "outputs": [],
   "source": [
    "train.head(3)"
   ],
   "metadata": {
    "collapsed": false,
    "pycharm": {
     "name": "#%%\n"
    }
   }
  },
  {
   "cell_type": "code",
   "execution_count": null,
   "outputs": [],
   "source": [
    "test.head(3)"
   ],
   "metadata": {
    "collapsed": false,
    "pycharm": {
     "name": "#%%\n"
    }
   }
  },
  {
   "cell_type": "code",
   "execution_count": null,
   "outputs": [],
   "source": [
    "train.isnull().sum()"
   ],
   "metadata": {
    "collapsed": false,
    "pycharm": {
     "name": "#%%\n"
    }
   }
  },
  {
   "cell_type": "code",
   "execution_count": null,
   "outputs": [],
   "source": [
    "test.isnull().sum()"
   ],
   "metadata": {
    "collapsed": false,
    "pycharm": {
     "name": "#%%\n"
    }
   }
  },
  {
   "cell_type": "code",
   "execution_count": null,
   "outputs": [],
   "source": [
    "train[\"Age\"].fillna(train[\"Age\"].median(), inplace=True)\n",
    "train[\"Embarked\"].fillna(train[\"Embarked\"].mode()[0], inplace=True)\n",
    "\n",
    "test[\"Age\"].fillna(test[\"Age\"].median(), inplace=True)\n",
    "test[\"Fare\"].fillna(test[\"Fare\"].median(), inplace=True)\n",
    "\n",
    "drop_columns = [\"PassengerId\", \"Cabin\", \"Ticket\"]\n",
    "train = train.drop(drop_columns, axis=1)\n",
    "test = test.drop(drop_columns, axis=1)\n",
    "\n",
    "print(train.isnull().sum())\n",
    "print(\"-\" * 10)\n",
    "print(test.isnull().sum())"
   ],
   "metadata": {
    "collapsed": false,
    "pycharm": {
     "name": "#%%\n"
    }
   }
  },
  {
   "cell_type": "code",
   "execution_count": null,
   "outputs": [],
   "source": [
    "train[\"family_size\"] = train[\"SibSp\"] + train[\"Parch\"] + 1\n",
    "test[\"family_size\"] = test[\"SibSp\"] + test[\"Parch\"] + 1\n",
    "\n",
    "train[\"is_single\"] = 1\n",
    "train[\"is_single\"].loc[train[\"family_size\"] > 1] = 0\n",
    "test[\"is_single\"] = 1\n",
    "test[\"is_single\"].loc[test[\"family_size\"] > 1] = 0\n",
    "\n",
    "train[\"title\"] = train[\"Name\"].str.split(\",\", expand=True)[1].str.split(\".\", expand=True)[0]\n",
    "test[\"title\"] = test[\"Name\"].str.split(\",\", expand=True)[1].str.split(\".\", expand=True)[0]\n",
    "\n",
    "train[\"fare_bin\"] = pd.qcut(x=train[\"Fare\"], q=4)\n",
    "test[\"fare_bin\"] = pd.qcut(x=test[\"Fare\"], q=4)\n",
    "\n",
    "train[\"age_bin\"] = pd.cut(x=train[\"Age\"], bins=5)\n",
    "test[\"age_bin\"] = pd.cut(x=test[\"Age\"], bins=5)\n",
    "\n",
    "print(train.shape, test.shape)\n",
    "train.head(3)"
   ],
   "metadata": {
    "collapsed": false,
    "pycharm": {
     "name": "#%%\n"
    }
   }
  },
  {
   "cell_type": "code",
   "execution_count": null,
   "outputs": [],
   "source": [
    "min_val = 10\n",
    "\n",
    "train_title = train[\"title\"].value_counts() < min_val\n",
    "test_title = test[\"title\"].value_counts() < min_val\n",
    "\n",
    "train[\"title\"] = train[\"title\"].apply(lambda x: \"Other\" if train_title.loc[x] == True else x)\n",
    "test[\"title\"] = test[\"title\"].apply(lambda x: \"Other\" if test_title.loc[x] == True else x)\n",
    "\n",
    "print(train[\"title\"].value_counts())\n",
    "print(\"-\" * 10)\n",
    "print(test[\"title\"].value_counts())"
   ],
   "metadata": {
    "collapsed": false,
    "pycharm": {
     "name": "#%%\n"
    }
   }
  },
  {
   "cell_type": "code",
   "execution_count": null,
   "outputs": [],
   "source": [
    "train.head(3)"
   ],
   "metadata": {
    "collapsed": false,
    "pycharm": {
     "name": "#%%\n"
    }
   }
  },
  {
   "cell_type": "code",
   "execution_count": null,
   "outputs": [],
   "source": [
    "from sklearn import preprocessing\n",
    "\n",
    "features = [\"Sex\", \"Embarked\", \"title\", \"fare_bin\", \"age_bin\"]\n",
    "\n",
    "for feat in features:\n",
    "    lbl_enc = preprocessing.LabelEncoder()\n",
    "    train.loc[:, feat] = lbl_enc.fit_transform(train[feat])\n",
    "    test.loc[:, feat] = lbl_enc.fit_transform(test[feat])\n",
    "    "
   ],
   "metadata": {
    "collapsed": false,
    "pycharm": {
     "name": "#%%\n"
    }
   }
  },
  {
   "cell_type": "code",
   "execution_count": null,
   "outputs": [],
   "source": [
    "train.head()"
   ],
   "metadata": {
    "collapsed": false,
    "pycharm": {
     "name": "#%%\n"
    }
   }
  },
  {
   "cell_type": "code",
   "execution_count": null,
   "outputs": [],
   "source": [
    "train = train.drop(\"Name\", axis=1)\n",
    "test = test.drop(\"Name\", axis=1)"
   ],
   "metadata": {
    "collapsed": false,
    "pycharm": {
     "name": "#%%\n"
    }
   }
  },
  {
   "cell_type": "code",
   "execution_count": null,
   "outputs": [],
   "source": [
    "sns.countplot(train[\"Survived\"]);"
   ],
   "metadata": {
    "collapsed": false,
    "pycharm": {
     "name": "#%%\n"
    }
   }
  },
  {
   "cell_type": "code",
   "execution_count": null,
   "outputs": [],
   "source": [
    "from sklearn import model_selection\n",
    "\n",
    "train[\"kfold\"] = -1\n",
    "\n",
    "df = train.sample(frac=1).reset_index(drop=True)\n",
    "y = train.Survived.values\n",
    "\n",
    "skf = model_selection.StratifiedKFold(n_splits=5)\n",
    "\n",
    "for fold, (trn_idx, val_idx) in enumerate(skf.split(X=df, y=y)):\n",
    "    df.loc[val_idx, \"kfold\"] = fold\n",
    "\n",
    "df.to_csv(\"train_folds.csv\", index=False)"
   ],
   "metadata": {
    "collapsed": false,
    "pycharm": {
     "name": "#%%\n"
    }
   }
  },
  {
   "cell_type": "code",
   "execution_count": null,
   "outputs": [],
   "source": [
    "import joblib\n",
    "from sklearn import metrics\n",
    "from sklearn import linear_model\n",
    "\n",
    "def run(fold):\n",
    "    df = pd.read_csv(\"train_folds.csv\")\n",
    "    \n",
    "    train_df = df[df.kfold != fold].reset_index(drop=True)\n",
    "    valid_df = df[df.kfold == fold].reset_index(drop=True)\n",
    "    \n",
    "    xtrain = train_df.drop(\"Survived\", axis=1).values\n",
    "    ytrain = train_df.Survived.values\n",
    "    \n",
    "    xvalid = valid_df.drop(\"Survived\", axis=1).values\n",
    "    yvalid = valid_df.Survived.values\n",
    "    \n",
    "    clf = linear_model.LogisticRegression()\n",
    "    clf.fit(xtrain, ytrain)\n",
    "    \n",
    "    preds = clf.predict(xvalid)\n",
    "    acc = metrics.accuracy_score(preds, yvalid)\n",
    "    \n",
    "    print(f\"Fold {fold}, Accuracy={acc:.3f}\")\n",
    "    \n",
    "    joblib.dump(\n",
    "        clf, \n",
    "        f\"model_{fold}.bin\",\n",
    "    )\n",
    "    "
   ],
   "metadata": {
    "collapsed": false,
    "pycharm": {
     "name": "#%%\n"
    }
   }
  },
  {
   "cell_type": "code",
   "execution_count": null,
   "outputs": [],
   "source": [
    "for fold_ in range(5):\n",
    "    run(fold_)"
   ],
   "metadata": {
    "collapsed": false,
    "pycharm": {
     "name": "#%%\n"
    }
   }
  },
  {
   "cell_type": "code",
   "execution_count": null,
   "outputs": [],
   "source": [
    "df = pd.read_csv(\"train_folds.csv\")\n",
    "clf_columns = list(df.columns)\n",
    "clf_columns"
   ],
   "metadata": {
    "collapsed": false,
    "pycharm": {
     "name": "#%%\n"
    }
   }
  },
  {
   "cell_type": "code",
   "execution_count": null,
   "outputs": [],
   "source": [],
   "metadata": {
    "collapsed": false,
    "pycharm": {
     "name": "#%%\n"
    }
   }
  },
  {
   "cell_type": "code",
   "execution_count": null,
   "outputs": [],
   "source": [],
   "metadata": {
    "collapsed": false,
    "pycharm": {
     "name": "#%%\n"
    }
   }
  },
  {
   "cell_type": "code",
   "execution_count": null,
   "outputs": [],
   "source": [],
   "metadata": {
    "collapsed": false,
    "pycharm": {
     "name": "#%%\n"
    }
   }
  },
  {
   "cell_type": "code",
   "execution_count": null,
   "outputs": [],
   "source": [],
   "metadata": {
    "collapsed": false,
    "pycharm": {
     "name": "#%%\n"
    }
   }
  }
 ],
 "metadata": {
  "kernelspec": {
   "display_name": "Python 3",
   "language": "python",
   "name": "python3"
  },
  "language_info": {
   "codemirror_mode": {
    "name": "ipython",
    "version": 3
   },
   "file_extension": ".py",
   "mimetype": "text/x-python",
   "name": "python",
   "nbconvert_exporter": "python",
   "pygments_lexer": "ipython3",
   "version": "3.8.3"
  }
 },
 "nbformat": 4,
 "nbformat_minor": 1
}