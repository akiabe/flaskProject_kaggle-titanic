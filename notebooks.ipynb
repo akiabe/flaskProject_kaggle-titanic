{
 "cells": [
  {
   "cell_type": "code",
   "execution_count": 1,
   "outputs": [],
   "source": [
    "import pandas as pd\n",
    "import warnings\n",
    "warnings.filterwarnings(\"ignore\")"
   ],
   "metadata": {
    "collapsed": false,
    "pycharm": {
     "name": "#%%\n"
    }
   }
  },
  {
   "cell_type": "code",
   "execution_count": null,
   "outputs": [],
   "source": [
    "train = pd.read_csv(\"train.csv\")\n",
    "train.head(3)"
   ],
   "metadata": {
    "collapsed": false,
    "pycharm": {
     "name": "#%%\n"
    }
   }
  },
  {
   "cell_type": "code",
   "execution_count": null,
   "outputs": [],
   "source": [
    "test = pd.read_csv(\"test.csv\")\n",
    "test.head(3)"
   ],
   "metadata": {
    "collapsed": false,
    "pycharm": {
     "name": "#%%\n"
    }
   }
  },
  {
   "cell_type": "code",
   "execution_count": null,
   "outputs": [],
   "source": [
    "pd.pivot_table(\n",
    "    train,\n",
    "    index=\"Pclass\",\n",
    "    columns=\"Survived\",\n",
    "    aggfunc=\"mean\",\n",
    ")"
   ],
   "metadata": {
    "collapsed": false,
    "pycharm": {
     "name": "#%%\n"
    }
   }
  },
  {
   "cell_type": "code",
   "execution_count": null,
   "outputs": [],
   "source": [
    "pd.pivot_table(\n",
    "    train,\n",
    "    index=\"Sex\",\n",
    "    columns=\"Survived\",\n",
    "    aggfunc=\"mean\",\n",
    ")"
   ],
   "metadata": {
    "collapsed": false,
    "pycharm": {
     "name": "#%%\n"
    }
   }
  },
  {
   "cell_type": "code",
   "execution_count": null,
   "outputs": [],
   "source": [
    "pd.pivot_table(\n",
    "    train,\n",
    "    index=\"SibSp\",\n",
    "    columns=\"Survived\",\n",
    "    aggfunc=\"mean\",\n",
    "    fill_value=0,\n",
    ")"
   ],
   "metadata": {
    "collapsed": false,
    "pycharm": {
     "name": "#%%\n"
    }
   }
  },
  {
   "cell_type": "code",
   "execution_count": null,
   "outputs": [],
   "source": [
    "pd.pivot_table(\n",
    "    train,\n",
    "    index=\"Parch\",\n",
    "    columns=\"Survived\",\n",
    "    aggfunc=\"mean\",\n",
    "    fill_value=0,\n",
    ")"
   ],
   "metadata": {
    "collapsed": false,
    "pycharm": {
     "name": "#%%\n"
    }
   }
  },
  {
   "cell_type": "code",
   "execution_count": null,
   "outputs": [],
   "source": [
    "import seaborn as sns\n",
    "import matplotlib.pyplot as plt"
   ],
   "metadata": {
    "collapsed": false,
    "pycharm": {
     "name": "#%%\n"
    }
   }
  },
  {
   "cell_type": "code",
   "execution_count": null,
   "outputs": [],
   "source": [
    "survived_0 = train.loc[train[\"Survived\"] == 0]\n",
    "survived_1 = train.loc[train[\"Survived\"] == 1]\n",
    "\n",
    "\n",
    "sns.distplot(survived_0[\"Age\"], label=\"survived_0\");\n",
    "sns.distplot(survived_1[\"Age\"], label=\"survived_1\");\n",
    "\n",
    "plt.legend();"
   ],
   "metadata": {
    "collapsed": false,
    "pycharm": {
     "name": "#%%\n"
    }
   }
  },
  {
   "cell_type": "code",
   "execution_count": null,
   "outputs": [],
   "source": [
    "pclass_1_survived_0 = train.loc[(train[\"Pclass\"] == 1) & (train[\"Survived\"] == 0)]\n",
    "pclass_1_survived_1 = train.loc[(train[\"Pclass\"] == 1) & (train[\"Survived\"] == 1)]\n",
    "\n",
    "pclass_2_survived_0 = train.loc[(train[\"Pclass\"] == 2) & (train[\"Survived\"] == 0)]\n",
    "pclass_2_survived_1 = train.loc[(train[\"Pclass\"] == 2) & (train[\"Survived\"] == 1)]\n",
    "\n",
    "pclass_3_survived_0 = train.loc[(train[\"Pclass\"] == 3) & (train[\"Survived\"] == 0)]\n",
    "pclass_3_survived_1 = train.loc[(train[\"Pclass\"] == 3) & (train[\"Survived\"] == 1)]\n"
   ],
   "metadata": {
    "collapsed": false,
    "pycharm": {
     "name": "#%%\n"
    }
   }
  },
  {
   "cell_type": "code",
   "execution_count": null,
   "outputs": [],
   "source": [
    "sns.distplot(pclass_1_survived_0[\"Age\"], label=\"pclass_1_survived_0\");\n",
    "sns.distplot(pclass_1_survived_1[\"Age\"], label=\"pclass_1_survived_1\");\n",
    "plt.legend();"
   ],
   "metadata": {
    "collapsed": false,
    "pycharm": {
     "name": "#%%\n"
    }
   }
  },
  {
   "cell_type": "code",
   "execution_count": null,
   "outputs": [],
   "source": [
    "sns.distplot(pclass_2_survived_0[\"Age\"], label=\"pclass_2_survived_0\");\n",
    "sns.distplot(pclass_2_survived_1[\"Age\"], label=\"pclass_2_survived_1\");\n",
    "plt.legend();"
   ],
   "metadata": {
    "collapsed": false,
    "pycharm": {
     "name": "#%%\n"
    }
   }
  },
  {
   "cell_type": "code",
   "execution_count": null,
   "outputs": [],
   "source": [
    "sns.distplot(pclass_3_survived_0[\"Age\"], label=\"pclass_3_survived_0\");\n",
    "sns.distplot(pclass_3_survived_1[\"Age\"], label=\"pclass_3_survived_1\");\n",
    "plt.legend();"
   ],
   "metadata": {
    "collapsed": false,
    "pycharm": {
     "name": "#%%\n"
    }
   }
  },
  {
   "cell_type": "code",
   "execution_count": null,
   "outputs": [],
   "source": [
    "sns.pointplot(data=train, x=\"Pclass\", y=\"Survived\", hue=\"Sex\");"
   ],
   "metadata": {
    "collapsed": false,
    "pycharm": {
     "name": "#%%\n"
    }
   }
  },
  {
   "cell_type": "code",
   "execution_count": null,
   "outputs": [],
   "source": [
    "embarked_S = train.loc[train[\"Embarked\"] == \"S\"]\n",
    "embarked_C = train.loc[train[\"Embarked\"] == \"C\"]\n",
    "embarked_Q = train.loc[train[\"Embarked\"] == \"Q\"]"
   ],
   "metadata": {
    "collapsed": false,
    "pycharm": {
     "name": "#%%\n"
    }
   }
  },
  {
   "cell_type": "code",
   "execution_count": null,
   "outputs": [],
   "source": [
    "sns.pointplot(data=embarked_S, x=\"Pclass\", y=\"Survived\", hue=\"Sex\");\n",
    "plt.title(\"Embarked = S\");"
   ],
   "metadata": {
    "collapsed": false,
    "pycharm": {
     "name": "#%%\n"
    }
   }
  },
  {
   "cell_type": "code",
   "execution_count": null,
   "outputs": [],
   "source": [
    "sns.pointplot(data=embarked_C, x=\"Pclass\", y=\"Survived\", hue=\"Sex\");\n",
    "plt.title(\"Embarked = C\");"
   ],
   "metadata": {
    "collapsed": false,
    "pycharm": {
     "name": "#%%\n"
    }
   }
  },
  {
   "cell_type": "code",
   "execution_count": null,
   "outputs": [],
   "source": [
    "sns.pointplot(data=embarked_Q, x=\"Pclass\", y=\"Survived\", hue=\"Sex\");\n",
    "plt.title(\"Embarked = Q\");"
   ],
   "metadata": {
    "collapsed": false,
    "pycharm": {
     "name": "#%%\n"
    }
   }
  },
  {
   "cell_type": "code",
   "execution_count": null,
   "outputs": [],
   "source": [
    "sns.barplot(data=embarked_S, x=\"Sex\", y=\"Fare\", hue=\"Survived\");\n",
    "plt.title(\"Embarked = S\");"
   ],
   "metadata": {
    "collapsed": false,
    "pycharm": {
     "name": "#%%\n"
    }
   }
  },
  {
   "cell_type": "code",
   "execution_count": null,
   "outputs": [],
   "source": [
    "sns.barplot(data=embarked_C, x=\"Sex\", y=\"Fare\", hue=\"Survived\");\n",
    "plt.title(\"Embarked = C\");"
   ],
   "metadata": {
    "collapsed": false,
    "pycharm": {
     "name": "#%%\n"
    }
   }
  },
  {
   "cell_type": "code",
   "execution_count": null,
   "outputs": [],
   "source": [
    "sns.barplot(data=embarked_Q, x=\"Sex\", y=\"Fare\", hue=\"Survived\");\n",
    "plt.title(\"Embarked = Q\");"
   ],
   "metadata": {
    "collapsed": false,
    "pycharm": {
     "name": "#%%\n"
    }
   }
  },
  {
   "cell_type": "code",
   "execution_count": null,
   "outputs": [],
   "source": [
    "train.head(3)"
   ],
   "metadata": {
    "collapsed": false,
    "pycharm": {
     "name": "#%%\n"
    }
   }
  },
  {
   "cell_type": "code",
   "execution_count": null,
   "outputs": [],
   "source": [
    "test.head(3)"
   ],
   "metadata": {
    "collapsed": false,
    "pycharm": {
     "name": "#%%\n"
    }
   }
  },
  {
   "cell_type": "code",
   "execution_count": null,
   "outputs": [],
   "source": [
    "train.isnull().sum()"
   ],
   "metadata": {
    "collapsed": false,
    "pycharm": {
     "name": "#%%\n"
    }
   }
  },
  {
   "cell_type": "code",
   "execution_count": null,
   "outputs": [],
   "source": [
    "test.isnull().sum()"
   ],
   "metadata": {
    "collapsed": false,
    "pycharm": {
     "name": "#%%\n"
    }
   }
  },
  {
   "cell_type": "code",
   "execution_count": null,
   "outputs": [],
   "source": [
    "train[\"Age\"].fillna(train[\"Age\"].median(), inplace=True)\n",
    "train[\"Embarked\"].fillna(train[\"Embarked\"].mode()[0], inplace=True)\n",
    "\n",
    "test[\"Age\"].fillna(test[\"Age\"].median(), inplace=True)\n",
    "test[\"Fare\"].fillna(test[\"Fare\"].median(), inplace=True)\n",
    "\n",
    "drop_columns = [\"PassengerId\", \"Cabin\", \"Ticket\"]\n",
    "train = train.drop(drop_columns, axis=1)\n",
    "test = test.drop(drop_columns, axis=1)\n",
    "\n",
    "print(train.isnull().sum())\n",
    "print(\"-\" * 10)\n",
    "print(test.isnull().sum())"
   ],
   "metadata": {
    "collapsed": false,
    "pycharm": {
     "name": "#%%\n"
    }
   }
  },
  {
   "cell_type": "code",
   "execution_count": null,
   "outputs": [],
   "source": [
    "train[\"family_size\"]\n",
    "\n",
    "train\n",
    "\n",
    "train[\"age_bin\"] = pd.cut(x=train[\"Age\"], bins=5)\n",
    "test[\"age_bin\"] = pd.cut(x=test[\"Age\"], bins=5)\n",
    "\n",
    "print(train.shape, test.shape)\n",
    "train.head(3)"
   ],
   "metadata": {
    "collapsed": false,
    "pycharm": {
     "name": "#%%\n"
    }
   }
  },
  {
   "cell_type": "code",
   "execution_count": null,
   "outputs": [],
   "source": [],
   "metadata": {
    "collapsed": false,
    "pycharm": {
     "name": "#%%\n"
    }
   }
  },
  {
   "cell_type": "code",
   "execution_count": null,
   "outputs": [],
   "source": [],
   "metadata": {
    "collapsed": false,
    "pycharm": {
     "name": "#%%\n"
    }
   }
  },
  {
   "cell_type": "code",
   "execution_count": null,
   "outputs": [],
   "source": [],
   "metadata": {
    "collapsed": false,
    "pycharm": {
     "name": "#%%\n"
    }
   }
  },
  {
   "cell_type": "code",
   "execution_count": null,
   "outputs": [],
   "source": [],
   "metadata": {
    "collapsed": false,
    "pycharm": {
     "name": "#%%\n"
    }
   }
  },
  {
   "cell_type": "code",
   "execution_count": null,
   "outputs": [],
   "source": [],
   "metadata": {
    "collapsed": false,
    "pycharm": {
     "name": "#%%\n"
    }
   }
  },
  {
   "cell_type": "code",
   "execution_count": null,
   "outputs": [],
   "source": [],
   "metadata": {
    "collapsed": false,
    "pycharm": {
     "name": "#%%\n"
    }
   }
  },
  {
   "cell_type": "code",
   "execution_count": null,
   "outputs": [],
   "source": [],
   "metadata": {
    "collapsed": false,
    "pycharm": {
     "name": "#%%\n"
    }
   }
  },
  {
   "cell_type": "code",
   "execution_count": null,
   "outputs": [],
   "source": [],
   "metadata": {
    "collapsed": false,
    "pycharm": {
     "name": "#%%\n"
    }
   }
  },
  {
   "cell_type": "code",
   "execution_count": null,
   "outputs": [],
   "source": [],
   "metadata": {
    "collapsed": false,
    "pycharm": {
     "name": "#%%\n"
    }
   }
  }
 ],
 "metadata": {
  "kernelspec": {
   "display_name": "Python 3",
   "language": "python",
   "name": "python3"
  },
  "language_info": {
   "codemirror_mode": {
    "name": "ipython",
    "version": 3
   },
   "file_extension": ".py",
   "mimetype": "text/x-python",
   "name": "python",
   "nbconvert_exporter": "python",
   "pygments_lexer": "ipython3",
   "version": "3.8.3"
  }
 },
 "nbformat": 4,
 "nbformat_minor": 1
}